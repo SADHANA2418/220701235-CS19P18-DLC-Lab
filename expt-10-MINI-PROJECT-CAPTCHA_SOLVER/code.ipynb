!pip install tensorflow keras captcha pillow numpy matplotlib opencv-python
import os
import string
import random
import numpy as np
from captcha.image import ImageCaptcha
from PIL import Image
import cv2
import matplotlib.pyplot as plt
from tensorflow.keras.utils import to_categorical
from tensorflow.keras.models import Model
from tensorflow.keras.layers import Input, Conv2D, MaxPooling2D, Flatten, Dense
# Delete previous folders if they exist
if os.path.exists("captcha_train"):
    shutil.rmtree("captcha_train")
if os.path.exists("captcha_test"):
    shutil.rmtree("captcha_test")
# CAPTCHA parameters
characters = string.ascii_uppercase + string.digits
captcha_length = 2       # 2-character CAPTCHA
train_size = 2000        # large dataset
test_size = 400
width, height = 150, 50

# Create folders
os.makedirs("captcha_train", exist_ok=True)
os.makedirs("captcha_test", exist_ok=True)

# CAPTCHA generator
image = ImageCaptcha(width=width, height=height)

def generate_captchas(size, folder):
    for i in range(size):
        text = ''.join(random.choices(characters, k=captcha_length))
        image.write(text, f"{folder}/{text}.png")

# Generate datasets
generate_captchas(train_size, "captcha_train")
generate_captchas(test_size, "captcha_test")
def load_data(folder):
    X = []
    y = []
    for file in os.listdir(folder):
        label_text = file.split(".")[0]
        img = cv2.imread(os.path.join(folder, file), cv2.IMREAD_GRAYSCALE)
        img = img / 255.0               # normalize
        img = img.reshape(height, width, 1)
        X.append(img)
        y.append([characters.index(c) for c in label_text])
        
    X = np.array(X)
    y = np.array(y)
    return X, y

X_train, y_train = load_data("captcha_train")
X_test, y_test = load_data("captcha_test")

# One-hot encode
y_train_oh = [to_categorical(y_train[:,i], num_classes=len(characters)) for i in range(captcha_length)]
y_train_oh = np.array(y_train_oh).transpose(1,0,2)

y_test_oh = [to_categorical(y_test[:,i], num_classes=len(characters)) for i in range(captcha_length)]
y_test_oh = np.array(y_test_oh).transpose(1,0,2)

print("Training data shape:", X_train.shape)
print("Training labels shape:", y_train_oh.shape)
input_img = Input(shape=(height, width, 1))
x = Conv2D(32, (3,3), activation='relu', padding='same')(input_img)
x = MaxPooling2D((2,2))(x)
x = Conv2D(64, (3,3), activation='relu', padding='same')(x)
x = MaxPooling2D((2,2))(x)
x = Conv2D(128, (3,3), activation='relu', padding='same')(x)
x = MaxPooling2D((2,2))(x)
x = Flatten()(x)
x = Dense(256, activation='relu')(x)

# 2 outputs (one per character)
outputs = [Dense(len(characters), activation='softmax', name=f'char{i+1}')(x) for i in range(captcha_length)]

model = Model(inputs=input_img, outputs=outputs)
model.compile(optimizer='adam', loss='categorical_crossentropy', metrics=['accuracy'])
model.summary()
history = model.fit(
    X_train, [y_train_oh[:,i,:] for i in range(captcha_length)],
    validation_data=(X_test, [y_test_oh[:,i,:] for i in range(captcha_length)]),
    epochs=50,      # can increase to 70 for even better accuracy
    batch_size=16
)
loss, *acc = model.evaluate(X_test, [y_test_oh[:,i,:] for i in range(captcha_length)])
print("Test Accuracy per character:", acc)
def predict_captcha(img_path):
    img = cv2.imread(img_path, cv2.IMREAD_GRAYSCALE)
    img = img / 255.0
    img = img.reshape(1, height, width, 1)
    pred = model.predict(img)
    pred_text = ''.join([characters[np.argmax(p)] for p in pred])
    return pred_text

# Display some predictions
for file in random.sample(os.listdir("captcha_test"), 5):
    path = os.path.join("captcha_test", file)
    plt.imshow(cv2.imread(path))
    plt.axis('off')
    plt.show()
    print("Actual:", file.split(".")[0], "| Predicted:", predict_captcha(path))

